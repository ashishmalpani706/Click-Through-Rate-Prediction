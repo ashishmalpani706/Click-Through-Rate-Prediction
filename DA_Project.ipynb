{
 "cells": [
  {
   "cell_type": "code",
   "execution_count": 162,
   "metadata": {
    "collapsed": false
   },
   "outputs": [
    {
     "ename": "ImportError",
     "evalue": "No module named seaborn",
     "output_type": "error",
     "traceback": [
      "\u001b[1;31m---------------------------------------------------------------------------\u001b[0m",
      "\u001b[1;31mImportError\u001b[0m                               Traceback (most recent call last)",
      "\u001b[1;32m<ipython-input-162-0ce33b73f848>\u001b[0m in \u001b[0;36m<module>\u001b[1;34m()\u001b[0m\n\u001b[0;32m      4\u001b[0m \u001b[1;32mfrom\u001b[0m \u001b[0mcopy\u001b[0m \u001b[1;32mimport\u001b[0m \u001b[0mdeepcopy\u001b[0m\u001b[1;33m\u001b[0m\u001b[0m\n\u001b[0;32m      5\u001b[0m \u001b[1;33m\u001b[0m\u001b[0m\n\u001b[1;32m----> 6\u001b[1;33m \u001b[1;32mimport\u001b[0m \u001b[0mseaborn\u001b[0m \u001b[1;32mas\u001b[0m \u001b[0msns\u001b[0m\u001b[1;33m\u001b[0m\u001b[0m\n\u001b[0m\u001b[0;32m      7\u001b[0m \u001b[1;32mimport\u001b[0m \u001b[0mmatplotlib\u001b[0m\u001b[1;33m.\u001b[0m\u001b[0mpyplot\u001b[0m \u001b[1;32mas\u001b[0m \u001b[0mplt\u001b[0m\u001b[1;33m\u001b[0m\u001b[0m\n\u001b[0;32m      8\u001b[0m \u001b[1;33m\u001b[0m\u001b[0m\n",
      "\u001b[1;31mImportError\u001b[0m: No module named seaborn"
     ]
    }
   ],
   "source": [
    "import datetime\n",
    "import numpy as np\n",
    "import graphlab as gl\n",
    "from copy import deepcopy\n",
    "\n",
    "import seaborn as sns\n",
    "import matplotlib.pyplot as plt\n",
    "\n",
    "path = 'C:/Ashish/Subjects/DA/Project/Data/train.csv'"
   ]
  },
  {
   "cell_type": "code",
   "execution_count": 26,
   "metadata": {
    "collapsed": false
   },
   "outputs": [],
   "source": [
    "dataFull = gl.SFrame.read_csv(path, verbose=False)"
   ]
  },
  {
   "cell_type": "code",
   "execution_count": 27,
   "metadata": {
    "collapsed": true
   },
   "outputs": [],
   "source": [
    "dataBackup = dataFull.sample(.01, seed=5)"
   ]
  },
  {
   "cell_type": "code",
   "execution_count": null,
   "metadata": {
    "collapsed": true
   },
   "outputs": [],
   "source": [
    "dataFull = None #Clear RAM"
   ]
  },
  {
   "cell_type": "code",
   "execution_count": 28,
   "metadata": {
    "collapsed": false
   },
   "outputs": [],
   "source": [
    "data = deepcopy(dataBackup)"
   ]
  },
  {
   "cell_type": "code",
   "execution_count": 163,
   "metadata": {
    "collapsed": false
   },
   "outputs": [
    {
     "data": {
      "text/html": [
       "<div style=\"max-height:1000px;max-width:1500px;overflow:auto;\"><table frame=\"box\" rules=\"cols\">\n",
       "    <tr>\n",
       "        <th style=\"padding-left: 1em; padding-right: 1em; text-align: center\">id</th>\n",
       "        <th style=\"padding-left: 1em; padding-right: 1em; text-align: center\">click</th>\n",
       "        <th style=\"padding-left: 1em; padding-right: 1em; text-align: center\">hour</th>\n",
       "        <th style=\"padding-left: 1em; padding-right: 1em; text-align: center\">C1</th>\n",
       "        <th style=\"padding-left: 1em; padding-right: 1em; text-align: center\">banner_pos</th>\n",
       "        <th style=\"padding-left: 1em; padding-right: 1em; text-align: center\">site_id</th>\n",
       "        <th style=\"padding-left: 1em; padding-right: 1em; text-align: center\">site_domain</th>\n",
       "        <th style=\"padding-left: 1em; padding-right: 1em; text-align: center\">site_category</th>\n",
       "        <th style=\"padding-left: 1em; padding-right: 1em; text-align: center\">app_id</th>\n",
       "        <th style=\"padding-left: 1em; padding-right: 1em; text-align: center\">app_domain</th>\n",
       "    </tr>\n",
       "    <tr>\n",
       "        <td style=\"padding-left: 1em; padding-right: 1em; text-align: center; vertical-align: top\">10006789981076459409</td>\n",
       "        <td style=\"padding-left: 1em; padding-right: 1em; text-align: center; vertical-align: top\">0</td>\n",
       "        <td style=\"padding-left: 1em; padding-right: 1em; text-align: center; vertical-align: top\">00</td>\n",
       "        <td style=\"padding-left: 1em; padding-right: 1em; text-align: center; vertical-align: top\">1005</td>\n",
       "        <td style=\"padding-left: 1em; padding-right: 1em; text-align: center; vertical-align: top\">0</td>\n",
       "        <td style=\"padding-left: 1em; padding-right: 1em; text-align: center; vertical-align: top\">030440fe</td>\n",
       "        <td style=\"padding-left: 1em; padding-right: 1em; text-align: center; vertical-align: top\">08ba7db9</td>\n",
       "        <td style=\"padding-left: 1em; padding-right: 1em; text-align: center; vertical-align: top\">76b2941d</td>\n",
       "        <td style=\"padding-left: 1em; padding-right: 1em; text-align: center; vertical-align: top\">ecad2386</td>\n",
       "        <td style=\"padding-left: 1em; padding-right: 1em; text-align: center; vertical-align: top\">7801e8d9</td>\n",
       "    </tr>\n",
       "</table>\n",
       "<table frame=\"box\" rules=\"cols\">\n",
       "    <tr>\n",
       "        <th style=\"padding-left: 1em; padding-right: 1em; text-align: center\">app_category</th>\n",
       "        <th style=\"padding-left: 1em; padding-right: 1em; text-align: center\">device_id</th>\n",
       "        <th style=\"padding-left: 1em; padding-right: 1em; text-align: center\">device_ip</th>\n",
       "        <th style=\"padding-left: 1em; padding-right: 1em; text-align: center\">device_model</th>\n",
       "        <th style=\"padding-left: 1em; padding-right: 1em; text-align: center\">device_type</th>\n",
       "        <th style=\"padding-left: 1em; padding-right: 1em; text-align: center\">device_conn_type</th>\n",
       "        <th style=\"padding-left: 1em; padding-right: 1em; text-align: center\">C14</th>\n",
       "        <th style=\"padding-left: 1em; padding-right: 1em; text-align: center\">C15</th>\n",
       "        <th style=\"padding-left: 1em; padding-right: 1em; text-align: center\">C16</th>\n",
       "        <th style=\"padding-left: 1em; padding-right: 1em; text-align: center\">C17</th>\n",
       "        <th style=\"padding-left: 1em; padding-right: 1em; text-align: center\">C18</th>\n",
       "    </tr>\n",
       "    <tr>\n",
       "        <td style=\"padding-left: 1em; padding-right: 1em; text-align: center; vertical-align: top\">07d7df22</td>\n",
       "        <td style=\"padding-left: 1em; padding-right: 1em; text-align: center; vertical-align: top\">a99f214a</td>\n",
       "        <td style=\"padding-left: 1em; padding-right: 1em; text-align: center; vertical-align: top\">692824c7</td>\n",
       "        <td style=\"padding-left: 1em; padding-right: 1em; text-align: center; vertical-align: top\">293291c1</td>\n",
       "        <td style=\"padding-left: 1em; padding-right: 1em; text-align: center; vertical-align: top\">1</td>\n",
       "        <td style=\"padding-left: 1em; padding-right: 1em; text-align: center; vertical-align: top\">0</td>\n",
       "        <td style=\"padding-left: 1em; padding-right: 1em; text-align: center; vertical-align: top\">20596</td>\n",
       "        <td style=\"padding-left: 1em; padding-right: 1em; text-align: center; vertical-align: top\">320</td>\n",
       "        <td style=\"padding-left: 1em; padding-right: 1em; text-align: center; vertical-align: top\">50</td>\n",
       "        <td style=\"padding-left: 1em; padding-right: 1em; text-align: center; vertical-align: top\">2161</td>\n",
       "        <td style=\"padding-left: 1em; padding-right: 1em; text-align: center; vertical-align: top\">0</td>\n",
       "    </tr>\n",
       "</table>\n",
       "<table frame=\"box\" rules=\"cols\">\n",
       "    <tr>\n",
       "        <th style=\"padding-left: 1em; padding-right: 1em; text-align: center\">C19</th>\n",
       "        <th style=\"padding-left: 1em; padding-right: 1em; text-align: center\">C20</th>\n",
       "        <th style=\"padding-left: 1em; padding-right: 1em; text-align: center\">C21</th>\n",
       "        <th style=\"padding-left: 1em; padding-right: 1em; text-align: center\">isWeekDay</th>\n",
       "        <th style=\"padding-left: 1em; padding-right: 1em; text-align: center\">area</th>\n",
       "    </tr>\n",
       "    <tr>\n",
       "        <td style=\"padding-left: 1em; padding-right: 1em; text-align: center; vertical-align: top\">35</td>\n",
       "        <td style=\"padding-left: 1em; padding-right: 1em; text-align: center; vertical-align: top\">-1</td>\n",
       "        <td style=\"padding-left: 1em; padding-right: 1em; text-align: center; vertical-align: top\">157</td>\n",
       "        <td style=\"padding-left: 1em; padding-right: 1em; text-align: center; vertical-align: top\">1</td>\n",
       "        <td style=\"padding-left: 1em; padding-right: 1em; text-align: center; vertical-align: top\">16000</td>\n",
       "    </tr>\n",
       "</table>\n",
       "[1 rows x 26 columns]<br/>\n",
       "</div>"
      ],
      "text/plain": [
       "Columns:\n",
       "\tid\tstr\n",
       "\tclick\tint\n",
       "\thour\tstr\n",
       "\tC1\tstr\n",
       "\tbanner_pos\tint\n",
       "\tsite_id\tstr\n",
       "\tsite_domain\tstr\n",
       "\tsite_category\tstr\n",
       "\tapp_id\tstr\n",
       "\tapp_domain\tstr\n",
       "\tapp_category\tstr\n",
       "\tdevice_id\tstr\n",
       "\tdevice_ip\tstr\n",
       "\tdevice_model\tstr\n",
       "\tdevice_type\tstr\n",
       "\tdevice_conn_type\tint\n",
       "\tC14\tint\n",
       "\tC15\tint\n",
       "\tC16\tint\n",
       "\tC17\tint\n",
       "\tC18\tint\n",
       "\tC19\tint\n",
       "\tC20\tint\n",
       "\tC21\tint\n",
       "\tisWeekDay\tint\n",
       "\tarea\tint\n",
       "\n",
       "Rows: 1\n",
       "\n",
       "Data:\n",
       "+----------------------+-------+------+------+------------+----------+-------------+\n",
       "|          id          | click | hour |  C1  | banner_pos | site_id  | site_domain |\n",
       "+----------------------+-------+------+------+------------+----------+-------------+\n",
       "| 10006789981076459409 |   0   |  00  | 1005 |     0      | 030440fe |   08ba7db9  |\n",
       "+----------------------+-------+------+------+------------+----------+-------------+\n",
       "+---------------+----------+------------+--------------+-----------+-----------+\n",
       "| site_category |  app_id  | app_domain | app_category | device_id | device_ip |\n",
       "+---------------+----------+------------+--------------+-----------+-----------+\n",
       "|    76b2941d   | ecad2386 |  7801e8d9  |   07d7df22   |  a99f214a |  692824c7 |\n",
       "+---------------+----------+------------+--------------+-----------+-----------+\n",
       "+--------------+-------------+------------------+-------+-----+-----+------+-----+\n",
       "| device_model | device_type | device_conn_type |  C14  | C15 | C16 | C17  | ... |\n",
       "+--------------+-------------+------------------+-------+-----+-----+------+-----+\n",
       "|   293291c1   |      1      |        0         | 20596 | 320 |  50 | 2161 | ... |\n",
       "+--------------+-------------+------------------+-------+-----+-----+------+-----+\n",
       "[1 rows x 26 columns]"
      ]
     },
     "execution_count": 163,
     "metadata": {},
     "output_type": "execute_result"
    }
   ],
   "source": [
    "data.head(1)"
   ]
  },
  {
   "cell_type": "code",
   "execution_count": 30,
   "metadata": {
    "collapsed": false
   },
   "outputs": [
    {
     "name": "stdout",
     "output_type": "stream",
     "text": [
      "Canvas is updated and available in a tab in the default browser.\n"
     ]
    }
   ],
   "source": [
    "data.show()"
   ]
  },
  {
   "cell_type": "code",
   "execution_count": 31,
   "metadata": {
    "collapsed": false
   },
   "outputs": [],
   "source": [
    "data['device_type'] = data['device_type'].astype(str)\n",
    "data['C1'] = data['C1'].astype(str)\n",
    "data['hour'] = data['hour'].astype(str)"
   ]
  },
  {
   "cell_type": "code",
   "execution_count": 32,
   "metadata": {
    "collapsed": false
   },
   "outputs": [],
   "source": [
    "data['isWeekDay'] = data['hour']"
   ]
  },
  {
   "cell_type": "code",
   "execution_count": 33,
   "metadata": {
    "collapsed": false
   },
   "outputs": [
    {
     "data": {
      "text/html": [
       "<div style=\"max-height:1000px;max-width:1500px;overflow:auto;\"><table frame=\"box\" rules=\"cols\">\n",
       "    <tr>\n",
       "        <th style=\"padding-left: 1em; padding-right: 1em; text-align: center\">id</th>\n",
       "        <th style=\"padding-left: 1em; padding-right: 1em; text-align: center\">click</th>\n",
       "        <th style=\"padding-left: 1em; padding-right: 1em; text-align: center\">hour</th>\n",
       "        <th style=\"padding-left: 1em; padding-right: 1em; text-align: center\">C1</th>\n",
       "        <th style=\"padding-left: 1em; padding-right: 1em; text-align: center\">banner_pos</th>\n",
       "        <th style=\"padding-left: 1em; padding-right: 1em; text-align: center\">site_id</th>\n",
       "        <th style=\"padding-left: 1em; padding-right: 1em; text-align: center\">site_domain</th>\n",
       "        <th style=\"padding-left: 1em; padding-right: 1em; text-align: center\">site_category</th>\n",
       "        <th style=\"padding-left: 1em; padding-right: 1em; text-align: center\">app_id</th>\n",
       "    </tr>\n",
       "    <tr>\n",
       "        <td style=\"padding-left: 1em; padding-right: 1em; text-align: center; vertical-align: top\">10006789981076459409</td>\n",
       "        <td style=\"padding-left: 1em; padding-right: 1em; text-align: center; vertical-align: top\">0</td>\n",
       "        <td style=\"padding-left: 1em; padding-right: 1em; text-align: center; vertical-align: top\">14102100</td>\n",
       "        <td style=\"padding-left: 1em; padding-right: 1em; text-align: center; vertical-align: top\">1005</td>\n",
       "        <td style=\"padding-left: 1em; padding-right: 1em; text-align: center; vertical-align: top\">0</td>\n",
       "        <td style=\"padding-left: 1em; padding-right: 1em; text-align: center; vertical-align: top\">030440fe</td>\n",
       "        <td style=\"padding-left: 1em; padding-right: 1em; text-align: center; vertical-align: top\">08ba7db9</td>\n",
       "        <td style=\"padding-left: 1em; padding-right: 1em; text-align: center; vertical-align: top\">76b2941d</td>\n",
       "        <td style=\"padding-left: 1em; padding-right: 1em; text-align: center; vertical-align: top\">ecad2386</td>\n",
       "    </tr>\n",
       "    <tr>\n",
       "        <td style=\"padding-left: 1em; padding-right: 1em; text-align: center; vertical-align: top\">10007163879183388340</td>\n",
       "        <td style=\"padding-left: 1em; padding-right: 1em; text-align: center; vertical-align: top\">0</td>\n",
       "        <td style=\"padding-left: 1em; padding-right: 1em; text-align: center; vertical-align: top\">14102100</td>\n",
       "        <td style=\"padding-left: 1em; padding-right: 1em; text-align: center; vertical-align: top\">1005</td>\n",
       "        <td style=\"padding-left: 1em; padding-right: 1em; text-align: center; vertical-align: top\">0</td>\n",
       "        <td style=\"padding-left: 1em; padding-right: 1em; text-align: center; vertical-align: top\">030440fe</td>\n",
       "        <td style=\"padding-left: 1em; padding-right: 1em; text-align: center; vertical-align: top\">08ba7db9</td>\n",
       "        <td style=\"padding-left: 1em; padding-right: 1em; text-align: center; vertical-align: top\">76b2941d</td>\n",
       "        <td style=\"padding-left: 1em; padding-right: 1em; text-align: center; vertical-align: top\">ecad2386</td>\n",
       "    </tr>\n",
       "</table>\n",
       "<table frame=\"box\" rules=\"cols\">\n",
       "    <tr>\n",
       "        <th style=\"padding-left: 1em; padding-right: 1em; text-align: center\">app_domain</th>\n",
       "        <th style=\"padding-left: 1em; padding-right: 1em; text-align: center\">app_category</th>\n",
       "        <th style=\"padding-left: 1em; padding-right: 1em; text-align: center\">device_id</th>\n",
       "        <th style=\"padding-left: 1em; padding-right: 1em; text-align: center\">device_ip</th>\n",
       "        <th style=\"padding-left: 1em; padding-right: 1em; text-align: center\">device_model</th>\n",
       "        <th style=\"padding-left: 1em; padding-right: 1em; text-align: center\">device_type</th>\n",
       "        <th style=\"padding-left: 1em; padding-right: 1em; text-align: center\">device_conn_type</th>\n",
       "        <th style=\"padding-left: 1em; padding-right: 1em; text-align: center\">C14</th>\n",
       "        <th style=\"padding-left: 1em; padding-right: 1em; text-align: center\">C15</th>\n",
       "        <th style=\"padding-left: 1em; padding-right: 1em; text-align: center\">C16</th>\n",
       "    </tr>\n",
       "    <tr>\n",
       "        <td style=\"padding-left: 1em; padding-right: 1em; text-align: center; vertical-align: top\">7801e8d9</td>\n",
       "        <td style=\"padding-left: 1em; padding-right: 1em; text-align: center; vertical-align: top\">07d7df22</td>\n",
       "        <td style=\"padding-left: 1em; padding-right: 1em; text-align: center; vertical-align: top\">a99f214a</td>\n",
       "        <td style=\"padding-left: 1em; padding-right: 1em; text-align: center; vertical-align: top\">692824c7</td>\n",
       "        <td style=\"padding-left: 1em; padding-right: 1em; text-align: center; vertical-align: top\">293291c1</td>\n",
       "        <td style=\"padding-left: 1em; padding-right: 1em; text-align: center; vertical-align: top\">1</td>\n",
       "        <td style=\"padding-left: 1em; padding-right: 1em; text-align: center; vertical-align: top\">0</td>\n",
       "        <td style=\"padding-left: 1em; padding-right: 1em; text-align: center; vertical-align: top\">20596</td>\n",
       "        <td style=\"padding-left: 1em; padding-right: 1em; text-align: center; vertical-align: top\">320</td>\n",
       "        <td style=\"padding-left: 1em; padding-right: 1em; text-align: center; vertical-align: top\">50</td>\n",
       "    </tr>\n",
       "    <tr>\n",
       "        <td style=\"padding-left: 1em; padding-right: 1em; text-align: center; vertical-align: top\">7801e8d9</td>\n",
       "        <td style=\"padding-left: 1em; padding-right: 1em; text-align: center; vertical-align: top\">07d7df22</td>\n",
       "        <td style=\"padding-left: 1em; padding-right: 1em; text-align: center; vertical-align: top\">a99f214a</td>\n",
       "        <td style=\"padding-left: 1em; padding-right: 1em; text-align: center; vertical-align: top\">5035aded</td>\n",
       "        <td style=\"padding-left: 1em; padding-right: 1em; text-align: center; vertical-align: top\">3db9fde9</td>\n",
       "        <td style=\"padding-left: 1em; padding-right: 1em; text-align: center; vertical-align: top\">1</td>\n",
       "        <td style=\"padding-left: 1em; padding-right: 1em; text-align: center; vertical-align: top\">0</td>\n",
       "        <td style=\"padding-left: 1em; padding-right: 1em; text-align: center; vertical-align: top\">18993</td>\n",
       "        <td style=\"padding-left: 1em; padding-right: 1em; text-align: center; vertical-align: top\">320</td>\n",
       "        <td style=\"padding-left: 1em; padding-right: 1em; text-align: center; vertical-align: top\">50</td>\n",
       "    </tr>\n",
       "</table>\n",
       "<table frame=\"box\" rules=\"cols\">\n",
       "    <tr>\n",
       "        <th style=\"padding-left: 1em; padding-right: 1em; text-align: center\">C17</th>\n",
       "        <th style=\"padding-left: 1em; padding-right: 1em; text-align: center\">C18</th>\n",
       "        <th style=\"padding-left: 1em; padding-right: 1em; text-align: center\">C19</th>\n",
       "        <th style=\"padding-left: 1em; padding-right: 1em; text-align: center\">C20</th>\n",
       "        <th style=\"padding-left: 1em; padding-right: 1em; text-align: center\">C21</th>\n",
       "        <th style=\"padding-left: 1em; padding-right: 1em; text-align: center\">isWeekDay</th>\n",
       "    </tr>\n",
       "    <tr>\n",
       "        <td style=\"padding-left: 1em; padding-right: 1em; text-align: center; vertical-align: top\">2161</td>\n",
       "        <td style=\"padding-left: 1em; padding-right: 1em; text-align: center; vertical-align: top\">0</td>\n",
       "        <td style=\"padding-left: 1em; padding-right: 1em; text-align: center; vertical-align: top\">35</td>\n",
       "        <td style=\"padding-left: 1em; padding-right: 1em; text-align: center; vertical-align: top\">-1</td>\n",
       "        <td style=\"padding-left: 1em; padding-right: 1em; text-align: center; vertical-align: top\">157</td>\n",
       "        <td style=\"padding-left: 1em; padding-right: 1em; text-align: center; vertical-align: top\">14102100</td>\n",
       "    </tr>\n",
       "    <tr>\n",
       "        <td style=\"padding-left: 1em; padding-right: 1em; text-align: center; vertical-align: top\">2161</td>\n",
       "        <td style=\"padding-left: 1em; padding-right: 1em; text-align: center; vertical-align: top\">0</td>\n",
       "        <td style=\"padding-left: 1em; padding-right: 1em; text-align: center; vertical-align: top\">35</td>\n",
       "        <td style=\"padding-left: 1em; padding-right: 1em; text-align: center; vertical-align: top\">-1</td>\n",
       "        <td style=\"padding-left: 1em; padding-right: 1em; text-align: center; vertical-align: top\">157</td>\n",
       "        <td style=\"padding-left: 1em; padding-right: 1em; text-align: center; vertical-align: top\">14102100</td>\n",
       "    </tr>\n",
       "</table>\n",
       "[2 rows x 25 columns]<br/>\n",
       "</div>"
      ],
      "text/plain": [
       "Columns:\n",
       "\tid\tstr\n",
       "\tclick\tint\n",
       "\thour\tstr\n",
       "\tC1\tstr\n",
       "\tbanner_pos\tint\n",
       "\tsite_id\tstr\n",
       "\tsite_domain\tstr\n",
       "\tsite_category\tstr\n",
       "\tapp_id\tstr\n",
       "\tapp_domain\tstr\n",
       "\tapp_category\tstr\n",
       "\tdevice_id\tstr\n",
       "\tdevice_ip\tstr\n",
       "\tdevice_model\tstr\n",
       "\tdevice_type\tstr\n",
       "\tdevice_conn_type\tint\n",
       "\tC14\tint\n",
       "\tC15\tint\n",
       "\tC16\tint\n",
       "\tC17\tint\n",
       "\tC18\tint\n",
       "\tC19\tint\n",
       "\tC20\tint\n",
       "\tC21\tint\n",
       "\tisWeekDay\tstr\n",
       "\n",
       "Rows: 2\n",
       "\n",
       "Data:\n",
       "+----------------------+-------+----------+------+------------+----------+\n",
       "|          id          | click |   hour   |  C1  | banner_pos | site_id  |\n",
       "+----------------------+-------+----------+------+------------+----------+\n",
       "| 10006789981076459409 |   0   | 14102100 | 1005 |     0      | 030440fe |\n",
       "| 10007163879183388340 |   0   | 14102100 | 1005 |     0      | 030440fe |\n",
       "+----------------------+-------+----------+------+------------+----------+\n",
       "+-------------+---------------+----------+------------+--------------+-----------+\n",
       "| site_domain | site_category |  app_id  | app_domain | app_category | device_id |\n",
       "+-------------+---------------+----------+------------+--------------+-----------+\n",
       "|   08ba7db9  |    76b2941d   | ecad2386 |  7801e8d9  |   07d7df22   |  a99f214a |\n",
       "|   08ba7db9  |    76b2941d   | ecad2386 |  7801e8d9  |   07d7df22   |  a99f214a |\n",
       "+-------------+---------------+----------+------------+--------------+-----------+\n",
       "+-----------+--------------+-------------+------------------+-------+-----+-----+\n",
       "| device_ip | device_model | device_type | device_conn_type |  C14  | C15 | C16 |\n",
       "+-----------+--------------+-------------+------------------+-------+-----+-----+\n",
       "|  692824c7 |   293291c1   |      1      |        0         | 20596 | 320 |  50 |\n",
       "|  5035aded |   3db9fde9   |      1      |        0         | 18993 | 320 |  50 |\n",
       "+-----------+--------------+-------------+------------------+-------+-----+-----+\n",
       "+------+-----+\n",
       "| C17  | ... |\n",
       "+------+-----+\n",
       "| 2161 | ... |\n",
       "| 2161 | ... |\n",
       "+------+-----+\n",
       "[2 rows x 25 columns]"
      ]
     },
     "execution_count": 33,
     "metadata": {},
     "output_type": "execute_result"
    }
   ],
   "source": [
    "data.head(2)"
   ]
  },
  {
   "cell_type": "code",
   "execution_count": 34,
   "metadata": {
    "collapsed": false
   },
   "outputs": [],
   "source": [
    "def isItAWeekDay(timeStamp):\n",
    "    timeStamp = str(timeStamp)\n",
    "    year  = int(timeStamp[0:2])\n",
    "    month = int(timeStamp[2:4])\n",
    "    day   = int(timeStamp[4:6])\n",
    "    off = [0, 31, 59, 90, 120, 151, 181, 212, 243, 273, 304, 334]\n",
    "    a = 1\n",
    "    if month > 2: a = 0\n",
    "    x = year - 1700 - a\n",
    "    dow  = 5\n",
    "    dow += (x + a) * 365\n",
    "    dow += x / 4 - x / 100 + (x + 100) / 400     \n",
    "    dow += off[month - 1] + (day - 1)               \n",
    "    dow %= 7\n",
    "    if dow == 0 or dow == 6: return 0; #Sunday or Saturday\n",
    "    return 1;"
   ]
  },
  {
   "cell_type": "code",
   "execution_count": 35,
   "metadata": {
    "collapsed": false
   },
   "outputs": [
    {
     "name": "stdout",
     "output_type": "stream",
     "text": [
      "14102100\n"
     ]
    }
   ],
   "source": [
    "data['isWeekDay'] = data['isWeekDay'].apply(isItAWeekDay)"
   ]
  },
  {
   "cell_type": "code",
   "execution_count": 67,
   "metadata": {
    "collapsed": false
   },
   "outputs": [],
   "source": [
    "def keepHour(timeStamp):\n",
    "    timeStamp = str(timeStamp)\n",
    "    return timeStamp[-2:];"
   ]
  },
  {
   "cell_type": "code",
   "execution_count": 52,
   "metadata": {
    "collapsed": true
   },
   "outputs": [],
   "source": [
    "data['hour'] = data['hour'].apply(keepHour)"
   ]
  },
  {
   "cell_type": "code",
   "execution_count": 53,
   "metadata": {
    "collapsed": true
   },
   "outputs": [],
   "source": [
    "data['area'] = data['C15']*data['C16'];"
   ]
  },
  {
   "cell_type": "code",
   "execution_count": 71,
   "metadata": {
    "collapsed": false
   },
   "outputs": [
    {
     "data": {
      "text/plain": [
       "0.17027748264189124"
      ]
     },
     "execution_count": 71,
     "metadata": {},
     "output_type": "execute_result"
    }
   ],
   "source": [
    "data['click'].mean()"
   ]
  },
  {
   "cell_type": "code",
   "execution_count": 72,
   "metadata": {
    "collapsed": false
   },
   "outputs": [
    {
     "data": {
      "text/html": [
       "<div style=\"max-height:1000px;max-width:1500px;overflow:auto;\"><table frame=\"box\" rules=\"cols\">\n",
       "    <tr>\n",
       "        <th style=\"padding-left: 1em; padding-right: 1em; text-align: center\">C1</th>\n",
       "        <th style=\"padding-left: 1em; padding-right: 1em; text-align: center\">CTR</th>\n",
       "    </tr>\n",
       "    <tr>\n",
       "        <td style=\"padding-left: 1em; padding-right: 1em; text-align: center; vertical-align: top\">1001</td>\n",
       "        <td style=\"padding-left: 1em; padding-right: 1em; text-align: center; vertical-align: top\">0.054347826087</td>\n",
       "    </tr>\n",
       "    <tr>\n",
       "        <td style=\"padding-left: 1em; padding-right: 1em; text-align: center; vertical-align: top\">1007</td>\n",
       "        <td style=\"padding-left: 1em; padding-right: 1em; text-align: center; vertical-align: top\">0.0477707006369</td>\n",
       "    </tr>\n",
       "    <tr>\n",
       "        <td style=\"padding-left: 1em; padding-right: 1em; text-align: center; vertical-align: top\">1008</td>\n",
       "        <td style=\"padding-left: 1em; padding-right: 1em; text-align: center; vertical-align: top\">0.181818181818</td>\n",
       "    </tr>\n",
       "    <tr>\n",
       "        <td style=\"padding-left: 1em; padding-right: 1em; text-align: center; vertical-align: top\">1010</td>\n",
       "        <td style=\"padding-left: 1em; padding-right: 1em; text-align: center; vertical-align: top\">0.0987922968121</td>\n",
       "    </tr>\n",
       "    <tr>\n",
       "        <td style=\"padding-left: 1em; padding-right: 1em; text-align: center; vertical-align: top\">1005</td>\n",
       "        <td style=\"padding-left: 1em; padding-right: 1em; text-align: center; vertical-align: top\">0.169862328314</td>\n",
       "    </tr>\n",
       "    <tr>\n",
       "        <td style=\"padding-left: 1em; padding-right: 1em; text-align: center; vertical-align: top\">1002</td>\n",
       "        <td style=\"padding-left: 1em; padding-right: 1em; text-align: center; vertical-align: top\">0.209507915746</td>\n",
       "    </tr>\n",
       "    <tr>\n",
       "        <td style=\"padding-left: 1em; padding-right: 1em; text-align: center; vertical-align: top\">1012</td>\n",
       "        <td style=\"padding-left: 1em; padding-right: 1em; text-align: center; vertical-align: top\">0.161319073084</td>\n",
       "    </tr>\n",
       "</table>\n",
       "[7 rows x 2 columns]<br/>\n",
       "</div>"
      ],
      "text/plain": [
       "Columns:\n",
       "\tC1\tstr\n",
       "\tCTR\tfloat\n",
       "\n",
       "Rows: 7\n",
       "\n",
       "Data:\n",
       "+------+-----------------+\n",
       "|  C1  |       CTR       |\n",
       "+------+-----------------+\n",
       "| 1001 |  0.054347826087 |\n",
       "| 1007 | 0.0477707006369 |\n",
       "| 1008 |  0.181818181818 |\n",
       "| 1010 | 0.0987922968121 |\n",
       "| 1005 |  0.169862328314 |\n",
       "| 1002 |  0.209507915746 |\n",
       "| 1012 |  0.161319073084 |\n",
       "+------+-----------------+\n",
       "[7 rows x 2 columns]"
      ]
     },
     "execution_count": 72,
     "metadata": {},
     "output_type": "execute_result"
    }
   ],
   "source": [
    "data.groupby('C1', {'CTR':gl.aggregate.MEAN('click')})"
   ]
  },
  {
   "cell_type": "code",
   "execution_count": 133,
   "metadata": {
    "collapsed": true
   },
   "outputs": [],
   "source": [
    "device_type_data = data.groupby('device_type', {'CTR':gl.aggregate.MEAN('click')})"
   ]
  },
  {
   "cell_type": "code",
   "execution_count": 137,
   "metadata": {
    "collapsed": false
   },
   "outputs": [
    {
     "data": {
      "text/plain": [
       "<module 'matplotlib.pyplot' from 'C:\\Users\\ashis\\Anaconda2\\Library\\envs\\gl-env\\lib\\site-packages\\matplotlib\\pyplot.py'>"
      ]
     },
     "execution_count": 137,
     "metadata": {},
     "output_type": "execute_result"
    }
   ],
   "source": [
    "N = device_type_data.shape[0]\n",
    "CTR = device_type_data['CTR']\n",
    "nCTR = [1 - x for x in CTR]\n",
    "\n",
    "ind = np.arange(N)    # the x locations for the groups\n",
    "#width = 0.35       # the width of the bars: can also be len(x) sequence\n",
    "\n",
    "p1 = plt.bar(ind, CTR, width)\n",
    "p2 = plt.bar(ind, nCTR, width,\n",
    "             bottom=CTR, color='red')\n",
    "\n",
    "plt.ylabel('Click Through Rate - Normalized')\n",
    "plt.title('Scores by group and gender.')\n",
    "plt.xticks(ind, ('G1', 'G2', 'G3', 'G4', 'G5'))\n",
    "#plt.yticks(np.arange(0, 81, 10))\n",
    "plt.legend((p1[0], p2[0]), ('Men', 'Women'),loc=\"upper left\", bbox_to_anchor=(1,1))"
   ]
  },
  {
   "cell_type": "code",
   "execution_count": null,
   "metadata": {
    "collapsed": true
   },
   "outputs": [],
   "source": []
  },
  {
   "cell_type": "code",
   "execution_count": 164,
   "metadata": {
    "collapsed": false
   },
   "outputs": [],
   "source": [
    "N = 5\n",
    "menMeans = (20, 35, 30, 35, 27)\n",
    "womenMeans = [100 - x for x in menMeans]\n",
    "ind = np.arange(N)    # the x locations for the groups\n",
    "width = 0.35       # the width of the bars: can also be len(x) sequence\n",
    "\n",
    "p1 = plt.bar(ind, menMeans, width)\n",
    "p2 = plt.bar(ind, womenMeans, width,\n",
    "             bottom=menMeans, color='red')\n",
    "\n",
    "plt.ylabel('Scores')\n",
    "plt.title('Scores by group and gender')\n",
    "plt.xticks(ind, ('G1', 'G2', 'G3', 'G4', 'G5'))\n",
    "#plt.yticks(np.arange(0, 81, 10))\n",
    "plt.legend((p1[0], p2[0]), ('Men', 'Women'),loc=\"upper left\", bbox_to_anchor=(1,1))\n",
    "\n",
    "plt.show()"
   ]
  },
  {
   "cell_type": "code",
   "execution_count": 136,
   "metadata": {
    "collapsed": false
   },
   "outputs": [
    {
     "name": "stdout",
     "output_type": "stream",
     "text": [
      "Canvas is updated and available in a tab in the default browser.\n"
     ]
    }
   ],
   "source": [
    "data.show()"
   ]
  },
  {
   "cell_type": "code",
   "execution_count": 159,
   "metadata": {
    "collapsed": false
   },
   "outputs": [
    {
     "data": {
      "text/html": [
       "<div style=\"max-height:1000px;max-width:1500px;overflow:auto;\"><table frame=\"box\" rules=\"cols\">\n",
       "    <tr>\n",
       "        <th style=\"padding-left: 1em; padding-right: 1em; text-align: center\">hour</th>\n",
       "        <th style=\"padding-left: 1em; padding-right: 1em; text-align: center\">CTR</th>\n",
       "    </tr>\n",
       "    <tr>\n",
       "        <td style=\"padding-left: 1em; padding-right: 1em; text-align: center; vertical-align: top\">19</td>\n",
       "        <td style=\"padding-left: 1em; padding-right: 1em; text-align: center; vertical-align: top\">2158</td>\n",
       "    </tr>\n",
       "    <tr>\n",
       "        <td style=\"padding-left: 1em; padding-right: 1em; text-align: center; vertical-align: top\">04</td>\n",
       "        <td style=\"padding-left: 1em; padding-right: 1em; text-align: center; vertical-align: top\">2992</td>\n",
       "    </tr>\n",
       "    <tr>\n",
       "        <td style=\"padding-left: 1em; padding-right: 1em; text-align: center; vertical-align: top\">12</td>\n",
       "        <td style=\"padding-left: 1em; padding-right: 1em; text-align: center; vertical-align: top\">3778</td>\n",
       "    </tr>\n",
       "    <tr>\n",
       "        <td style=\"padding-left: 1em; padding-right: 1em; text-align: center; vertical-align: top\">09</td>\n",
       "        <td style=\"padding-left: 1em; padding-right: 1em; text-align: center; vertical-align: top\">3619</td>\n",
       "    </tr>\n",
       "    <tr>\n",
       "        <td style=\"padding-left: 1em; padding-right: 1em; text-align: center; vertical-align: top\">17</td>\n",
       "        <td style=\"padding-left: 1em; padding-right: 1em; text-align: center; vertical-align: top\">3554</td>\n",
       "    </tr>\n",
       "    <tr>\n",
       "        <td style=\"padding-left: 1em; padding-right: 1em; text-align: center; vertical-align: top\">18</td>\n",
       "        <td style=\"padding-left: 1em; padding-right: 1em; text-align: center; vertical-align: top\">3013</td>\n",
       "    </tr>\n",
       "    <tr>\n",
       "        <td style=\"padding-left: 1em; padding-right: 1em; text-align: center; vertical-align: top\">23</td>\n",
       "        <td style=\"padding-left: 1em; padding-right: 1em; text-align: center; vertical-align: top\">1448</td>\n",
       "    </tr>\n",
       "    <tr>\n",
       "        <td style=\"padding-left: 1em; padding-right: 1em; text-align: center; vertical-align: top\">13</td>\n",
       "        <td style=\"padding-left: 1em; padding-right: 1em; text-align: center; vertical-align: top\">4206</td>\n",
       "    </tr>\n",
       "    <tr>\n",
       "        <td style=\"padding-left: 1em; padding-right: 1em; text-align: center; vertical-align: top\">00</td>\n",
       "        <td style=\"padding-left: 1em; padding-right: 1em; text-align: center; vertical-align: top\">1447</td>\n",
       "    </tr>\n",
       "    <tr>\n",
       "        <td style=\"padding-left: 1em; padding-right: 1em; text-align: center; vertical-align: top\">16</td>\n",
       "        <td style=\"padding-left: 1em; padding-right: 1em; text-align: center; vertical-align: top\">3691</td>\n",
       "    </tr>\n",
       "</table>\n",
       "[24 rows x 2 columns]<br/>Note: Only the head of the SFrame is printed.<br/>You can use print_rows(num_rows=m, num_columns=n) to print more rows and columns.\n",
       "</div>"
      ],
      "text/plain": [
       "Columns:\n",
       "\thour\tstr\n",
       "\tCTR\tint\n",
       "\n",
       "Rows: 24\n",
       "\n",
       "Data:\n",
       "+------+------+\n",
       "| hour | CTR  |\n",
       "+------+------+\n",
       "|  19  | 2158 |\n",
       "|  04  | 2992 |\n",
       "|  12  | 3778 |\n",
       "|  09  | 3619 |\n",
       "|  17  | 3554 |\n",
       "|  18  | 3013 |\n",
       "|  23  | 1448 |\n",
       "|  13  | 4206 |\n",
       "|  00  | 1447 |\n",
       "|  16  | 3691 |\n",
       "+------+------+\n",
       "[24 rows x 2 columns]\n",
       "Note: Only the head of the SFrame is printed.\n",
       "You can use print_rows(num_rows=m, num_columns=n) to print more rows and columns."
      ]
     },
     "execution_count": 159,
     "metadata": {},
     "output_type": "execute_result"
    }
   ],
   "source": [
    "data.groupby('hour', {'CTR':gl.aggregate.SUM('click')})"
   ]
  },
  {
   "cell_type": "code",
   "execution_count": null,
   "metadata": {
    "collapsed": false
   },
   "outputs": [],
   "source": [
    "data.groupby('hour', {'CTR':gl.aggregate.SUM('click')})"
   ]
  },
  {
   "cell_type": "code",
   "execution_count": 158,
   "metadata": {
    "collapsed": false
   },
   "outputs": [],
   "source": [
    "graph.show()"
   ]
  },
  {
   "cell_type": "code",
   "execution_count": null,
   "metadata": {
    "collapsed": true
   },
   "outputs": [],
   "source": []
  },
  {
   "cell_type": "code",
   "execution_count": null,
   "metadata": {
    "collapsed": true
   },
   "outputs": [],
   "source": []
  },
  {
   "cell_type": "code",
   "execution_count": null,
   "metadata": {
    "collapsed": true
   },
   "outputs": [],
   "source": []
  },
  {
   "cell_type": "code",
   "execution_count": null,
   "metadata": {
    "collapsed": true
   },
   "outputs": [],
   "source": []
  },
  {
   "cell_type": "code",
   "execution_count": null,
   "metadata": {
    "collapsed": true
   },
   "outputs": [],
   "source": []
  },
  {
   "cell_type": "code",
   "execution_count": null,
   "metadata": {
    "collapsed": true
   },
   "outputs": [],
   "source": []
  }
 ],
 "metadata": {
  "kernelspec": {
   "display_name": "Python 2",
   "language": "python",
   "name": "python2"
  },
  "language_info": {
   "codemirror_mode": {
    "name": "ipython",
    "version": 2
   },
   "file_extension": ".py",
   "mimetype": "text/x-python",
   "name": "python",
   "nbconvert_exporter": "python",
   "pygments_lexer": "ipython2",
   "version": "2.7.11"
  }
 },
 "nbformat": 4,
 "nbformat_minor": 0
}
