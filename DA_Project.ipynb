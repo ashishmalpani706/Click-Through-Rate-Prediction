{
 "cells": [
  {
   "cell_type": "code",
   "execution_count": 44,
   "metadata": {
    "collapsed": true
   },
   "outputs": [],
   "source": [
    "import datetime\n",
    "import graphlab as gl\n",
    "path = 'C:/Ashish/Subjects/DA/Project/Data/train.csv'"
   ]
  },
  {
   "cell_type": "code",
   "execution_count": 21,
   "metadata": {
    "collapsed": false
   },
   "outputs": [],
   "source": [
    "data = gl.SFrame.read_csv(path, verbose=False)"
   ]
  },
  {
   "cell_type": "code",
   "execution_count": null,
   "metadata": {
    "collapsed": false
   },
   "outputs": [],
   "source": [
    "data.remove_columns(['id']);"
   ]
  },
  {
   "cell_type": "code",
   "execution_count": null,
   "metadata": {
    "collapsed": false
   },
   "outputs": [],
   "source": []
  },
  {
   "cell_type": "code",
   "execution_count": 58,
   "metadata": {
    "collapsed": true
   },
   "outputs": [],
   "source": [
    "data['device_type'] = data['C1'].astype(str)\n",
    "data['C1'] = data['C1'].astype(str)\n",
    "data['hour'] = data['C1'].astype(str)"
   ]
  },
  {
   "cell_type": "code",
   "execution_count": 92,
   "metadata": {
    "collapsed": false
   },
   "outputs": [
    {
     "name": "stdout",
     "output_type": "stream",
     "text": [
      "1\n"
     ]
    }
   ],
   "source": [
    "def isItAWeekDay(timeStamp):\n",
    "    year  = int(timeStamp[0:2])\n",
    "    month = int(timeStamp[2:4])\n",
    "    day   = int(timeStamp[4:6])\n",
    "    off = [0, 31, 59, 90, 120, 151, 181, 212, 243, 273, 304, 334]\n",
    "    a = 1\n",
    "    if month > 2: a = 0\n",
    "    x = year - 1700 - a\n",
    "    dow  = 5\n",
    "    dow += (x + a) * 365                  \n",
    "    dow += x / 4 - x / 100 + (x + 100) / 400     \n",
    "    dow += off[month - 1] + (day - 1)               \n",
    "    dow %= 7\n",
    "    if dow == 0 or dow == 6: return 0; #Sunday or Saturday\n",
    "    return 1;\n",
    "#print isItAWeekDay('13061423')"
   ]
  },
  {
   "cell_type": "code",
   "execution_count": 94,
   "metadata": {
    "collapsed": false
   },
   "outputs": [],
   "source": [
    "data['isWeekDay'] = data['hour']"
   ]
  },
  {
   "cell_type": "code",
   "execution_count": 100,
   "metadata": {
    "collapsed": false
   },
   "outputs": [
    {
     "data": {
      "text/plain": [
       "dtype: str\n",
       "Rows: 40428967\n",
       "['1005', '1005', '1005', '1005', '1005', '1005', '1005', '1005', '1005', '1002', '1005', '1005', '1005', '1005', '1005', '1005', '1005', '1005', '1005', '1005', '1005', '1005', '1005', '1005', '1005', '1010', '1005', '1005', '1005', '1005', '1005', '1005', '1005', '1005', '1005', '1005', '1005', '1005', '1005', '1005', '1005', '1005', '1005', '1010', '1002', '1005', '1005', '1005', '1005', '1005', '1005', '1005', '1005', '1005', '1005', '1005', '1005', '1005', '1005', '1005', '1005', '1005', '1005', '1005', '1005', '1005', '1005', '1005', '1005', '1005', '1005', '1005', '1005', '1005', '1005', '1005', '1005', '1005', '1005', '1005', '1005', '1002', '1005', '1005', '1005', '1005', '1005', '1002', '1005', '1005', '1005', '1005', '1005', '1005', '1005', '1005', '1005', '1005', '1005', '1005', ... ]"
      ]
     },
     "execution_count": 100,
     "metadata": {},
     "output_type": "execute_result"
    }
   ],
   "source": [
    "data['hour']"
   ]
  },
  {
   "cell_type": "code",
   "execution_count": null,
   "metadata": {
    "collapsed": true
   },
   "outputs": [],
   "source": []
  },
  {
   "cell_type": "code",
   "execution_count": null,
   "metadata": {
    "collapsed": true
   },
   "outputs": [],
   "source": []
  },
  {
   "cell_type": "code",
   "execution_count": 30,
   "metadata": {
    "collapsed": false
   },
   "outputs": [
    {
     "name": "stdout",
     "output_type": "stream",
     "text": [
      "Canvas is accessible via web browser at the URL: http://localhost:51678/index.html\n",
      "Opening Canvas in default web browser.\n"
     ]
    }
   ],
   "source": [
    "data.show()"
   ]
  },
  {
   "cell_type": "code",
   "execution_count": 95,
   "metadata": {
    "collapsed": false
   },
   "outputs": [
    {
     "data": {
      "text/html": [
       "<div style=\"max-height:1000px;max-width:1500px;overflow:auto;\"><table frame=\"box\" rules=\"cols\">\n",
       "    <tr>\n",
       "        <th style=\"padding-left: 1em; padding-right: 1em; text-align: center\">click</th>\n",
       "        <th style=\"padding-left: 1em; padding-right: 1em; text-align: center\">hour</th>\n",
       "        <th style=\"padding-left: 1em; padding-right: 1em; text-align: center\">C1</th>\n",
       "        <th style=\"padding-left: 1em; padding-right: 1em; text-align: center\">banner_pos</th>\n",
       "        <th style=\"padding-left: 1em; padding-right: 1em; text-align: center\">site_id</th>\n",
       "        <th style=\"padding-left: 1em; padding-right: 1em; text-align: center\">site_domain</th>\n",
       "        <th style=\"padding-left: 1em; padding-right: 1em; text-align: center\">site_category</th>\n",
       "        <th style=\"padding-left: 1em; padding-right: 1em; text-align: center\">app_id</th>\n",
       "        <th style=\"padding-left: 1em; padding-right: 1em; text-align: center\">app_domain</th>\n",
       "        <th style=\"padding-left: 1em; padding-right: 1em; text-align: center\">app_category</th>\n",
       "    </tr>\n",
       "    <tr>\n",
       "        <td style=\"padding-left: 1em; padding-right: 1em; text-align: center; vertical-align: top\">0</td>\n",
       "        <td style=\"padding-left: 1em; padding-right: 1em; text-align: center; vertical-align: top\">1005</td>\n",
       "        <td style=\"padding-left: 1em; padding-right: 1em; text-align: center; vertical-align: top\">1005</td>\n",
       "        <td style=\"padding-left: 1em; padding-right: 1em; text-align: center; vertical-align: top\">0</td>\n",
       "        <td style=\"padding-left: 1em; padding-right: 1em; text-align: center; vertical-align: top\">1fbe01fe</td>\n",
       "        <td style=\"padding-left: 1em; padding-right: 1em; text-align: center; vertical-align: top\">f3845767</td>\n",
       "        <td style=\"padding-left: 1em; padding-right: 1em; text-align: center; vertical-align: top\">28905ebd</td>\n",
       "        <td style=\"padding-left: 1em; padding-right: 1em; text-align: center; vertical-align: top\">ecad2386</td>\n",
       "        <td style=\"padding-left: 1em; padding-right: 1em; text-align: center; vertical-align: top\">7801e8d9</td>\n",
       "        <td style=\"padding-left: 1em; padding-right: 1em; text-align: center; vertical-align: top\">07d7df22</td>\n",
       "    </tr>\n",
       "</table>\n",
       "<table frame=\"box\" rules=\"cols\">\n",
       "    <tr>\n",
       "        <th style=\"padding-left: 1em; padding-right: 1em; text-align: center\">device_id</th>\n",
       "        <th style=\"padding-left: 1em; padding-right: 1em; text-align: center\">device_ip</th>\n",
       "        <th style=\"padding-left: 1em; padding-right: 1em; text-align: center\">device_model</th>\n",
       "        <th style=\"padding-left: 1em; padding-right: 1em; text-align: center\">device_type</th>\n",
       "        <th style=\"padding-left: 1em; padding-right: 1em; text-align: center\">device_conn_type</th>\n",
       "        <th style=\"padding-left: 1em; padding-right: 1em; text-align: center\">C14</th>\n",
       "        <th style=\"padding-left: 1em; padding-right: 1em; text-align: center\">C15</th>\n",
       "        <th style=\"padding-left: 1em; padding-right: 1em; text-align: center\">C16</th>\n",
       "        <th style=\"padding-left: 1em; padding-right: 1em; text-align: center\">C17</th>\n",
       "        <th style=\"padding-left: 1em; padding-right: 1em; text-align: center\">C18</th>\n",
       "        <th style=\"padding-left: 1em; padding-right: 1em; text-align: center\">C19</th>\n",
       "        <th style=\"padding-left: 1em; padding-right: 1em; text-align: center\">C20</th>\n",
       "    </tr>\n",
       "    <tr>\n",
       "        <td style=\"padding-left: 1em; padding-right: 1em; text-align: center; vertical-align: top\">a99f214a</td>\n",
       "        <td style=\"padding-left: 1em; padding-right: 1em; text-align: center; vertical-align: top\">ddd2926e</td>\n",
       "        <td style=\"padding-left: 1em; padding-right: 1em; text-align: center; vertical-align: top\">44956a24</td>\n",
       "        <td style=\"padding-left: 1em; padding-right: 1em; text-align: center; vertical-align: top\">1005</td>\n",
       "        <td style=\"padding-left: 1em; padding-right: 1em; text-align: center; vertical-align: top\">2</td>\n",
       "        <td style=\"padding-left: 1em; padding-right: 1em; text-align: center; vertical-align: top\">15706</td>\n",
       "        <td style=\"padding-left: 1em; padding-right: 1em; text-align: center; vertical-align: top\">320</td>\n",
       "        <td style=\"padding-left: 1em; padding-right: 1em; text-align: center; vertical-align: top\">50</td>\n",
       "        <td style=\"padding-left: 1em; padding-right: 1em; text-align: center; vertical-align: top\">1722</td>\n",
       "        <td style=\"padding-left: 1em; padding-right: 1em; text-align: center; vertical-align: top\">0</td>\n",
       "        <td style=\"padding-left: 1em; padding-right: 1em; text-align: center; vertical-align: top\">35</td>\n",
       "        <td style=\"padding-left: 1em; padding-right: 1em; text-align: center; vertical-align: top\">-1</td>\n",
       "    </tr>\n",
       "</table>\n",
       "<table frame=\"box\" rules=\"cols\">\n",
       "    <tr>\n",
       "        <th style=\"padding-left: 1em; padding-right: 1em; text-align: center\">C21</th>\n",
       "        <th style=\"padding-left: 1em; padding-right: 1em; text-align: center\">isWeekDay</th>\n",
       "    </tr>\n",
       "    <tr>\n",
       "        <td style=\"padding-left: 1em; padding-right: 1em; text-align: center; vertical-align: top\">79</td>\n",
       "        <td style=\"padding-left: 1em; padding-right: 1em; text-align: center; vertical-align: top\">1005</td>\n",
       "    </tr>\n",
       "</table>\n",
       "[1 rows x 24 columns]<br/>\n",
       "</div>"
      ],
      "text/plain": [
       "Columns:\n",
       "\tclick\tint\n",
       "\thour\tstr\n",
       "\tC1\tstr\n",
       "\tbanner_pos\tint\n",
       "\tsite_id\tstr\n",
       "\tsite_domain\tstr\n",
       "\tsite_category\tstr\n",
       "\tapp_id\tstr\n",
       "\tapp_domain\tstr\n",
       "\tapp_category\tstr\n",
       "\tdevice_id\tstr\n",
       "\tdevice_ip\tstr\n",
       "\tdevice_model\tstr\n",
       "\tdevice_type\tstr\n",
       "\tdevice_conn_type\tint\n",
       "\tC14\tint\n",
       "\tC15\tint\n",
       "\tC16\tint\n",
       "\tC17\tint\n",
       "\tC18\tint\n",
       "\tC19\tint\n",
       "\tC20\tint\n",
       "\tC21\tint\n",
       "\tisWeekDay\tstr\n",
       "\n",
       "Rows: 1\n",
       "\n",
       "Data:\n",
       "+-------+------+------+------------+----------+-------------+---------------+\n",
       "| click | hour |  C1  | banner_pos | site_id  | site_domain | site_category |\n",
       "+-------+------+------+------------+----------+-------------+---------------+\n",
       "|   0   | 1005 | 1005 |     0      | 1fbe01fe |   f3845767  |    28905ebd   |\n",
       "+-------+------+------+------------+----------+-------------+---------------+\n",
       "+----------+------------+--------------+-----------+-----------+--------------+\n",
       "|  app_id  | app_domain | app_category | device_id | device_ip | device_model |\n",
       "+----------+------------+--------------+-----------+-----------+--------------+\n",
       "| ecad2386 |  7801e8d9  |   07d7df22   |  a99f214a |  ddd2926e |   44956a24   |\n",
       "+----------+------------+--------------+-----------+-----------+--------------+\n",
       "+-------------+------------------+-------+-----+-----+------+-----+-----+\n",
       "| device_type | device_conn_type |  C14  | C15 | C16 | C17  | C18 | ... |\n",
       "+-------------+------------------+-------+-----+-----+------+-----+-----+\n",
       "|     1005    |        2         | 15706 | 320 |  50 | 1722 |  0  | ... |\n",
       "+-------------+------------------+-------+-----+-----+------+-----+-----+\n",
       "[1 rows x 24 columns]"
      ]
     },
     "execution_count": 95,
     "metadata": {},
     "output_type": "execute_result"
    }
   ],
   "source": [
    "data.head(1)"
   ]
  },
  {
   "cell_type": "code",
   "execution_count": 28,
   "metadata": {
    "collapsed": false
   },
   "outputs": [
    {
     "data": {
      "text/plain": [
       "0.1698056247640528"
      ]
     },
     "execution_count": 28,
     "metadata": {},
     "output_type": "execute_result"
    }
   ],
   "source": [
    "data['click'].mean()"
   ]
  },
  {
   "cell_type": "code",
   "execution_count": 29,
   "metadata": {
    "collapsed": false
   },
   "outputs": [
    {
     "data": {
      "text/html": [
       "<div style=\"max-height:1000px;max-width:1500px;overflow:auto;\"><table frame=\"box\" rules=\"cols\">\n",
       "    <tr>\n",
       "        <th style=\"padding-left: 1em; padding-right: 1em; text-align: center\">device_type</th>\n",
       "        <th style=\"padding-left: 1em; padding-right: 1em; text-align: center\">CTR</th>\n",
       "    </tr>\n",
       "    <tr>\n",
       "        <td style=\"padding-left: 1em; padding-right: 1em; text-align: center; vertical-align: top\">2</td>\n",
       "        <td style=\"padding-left: 1em; padding-right: 1em; text-align: center; vertical-align: top\">0.0645161290323</td>\n",
       "    </tr>\n",
       "    <tr>\n",
       "        <td style=\"padding-left: 1em; padding-right: 1em; text-align: center; vertical-align: top\">0</td>\n",
       "        <td style=\"padding-left: 1em; padding-right: 1em; text-align: center; vertical-align: top\">0.210731480197</td>\n",
       "    </tr>\n",
       "    <tr>\n",
       "        <td style=\"padding-left: 1em; padding-right: 1em; text-align: center; vertical-align: top\">5</td>\n",
       "        <td style=\"padding-left: 1em; padding-right: 1em; text-align: center; vertical-align: top\">0.093842164338</td>\n",
       "    </tr>\n",
       "    <tr>\n",
       "        <td style=\"padding-left: 1em; padding-right: 1em; text-align: center; vertical-align: top\">4</td>\n",
       "        <td style=\"padding-left: 1em; padding-right: 1em; text-align: center; vertical-align: top\">0.0954444949578</td>\n",
       "    </tr>\n",
       "    <tr>\n",
       "        <td style=\"padding-left: 1em; padding-right: 1em; text-align: center; vertical-align: top\">1</td>\n",
       "        <td style=\"padding-left: 1em; padding-right: 1em; text-align: center; vertical-align: top\">0.169175776318</td>\n",
       "    </tr>\n",
       "</table>\n",
       "[5 rows x 2 columns]<br/>\n",
       "</div>"
      ],
      "text/plain": [
       "Columns:\n",
       "\tdevice_type\tint\n",
       "\tCTR\tfloat\n",
       "\n",
       "Rows: 5\n",
       "\n",
       "Data:\n",
       "+-------------+-----------------+\n",
       "| device_type |       CTR       |\n",
       "+-------------+-----------------+\n",
       "|      2      | 0.0645161290323 |\n",
       "|      0      |  0.210731480197 |\n",
       "|      5      |  0.093842164338 |\n",
       "|      4      | 0.0954444949578 |\n",
       "|      1      |  0.169175776318 |\n",
       "+-------------+-----------------+\n",
       "[5 rows x 2 columns]"
      ]
     },
     "execution_count": 29,
     "metadata": {},
     "output_type": "execute_result"
    }
   ],
   "source": [
    "data.groupby('device_type', {'CTR':gl.aggregate.MEAN('click')})"
   ]
  },
  {
   "cell_type": "code",
   "execution_count": 16,
   "metadata": {
    "collapsed": false
   },
   "outputs": [],
   "source": []
  },
  {
   "cell_type": "code",
   "execution_count": null,
   "metadata": {
    "collapsed": true
   },
   "outputs": [],
   "source": []
  }
 ],
 "metadata": {
  "kernelspec": {
   "display_name": "Python 2",
   "language": "python",
   "name": "python2"
  },
  "language_info": {
   "codemirror_mode": {
    "name": "ipython",
    "version": 2
   },
   "file_extension": ".py",
   "mimetype": "text/x-python",
   "name": "python",
   "nbconvert_exporter": "python",
   "pygments_lexer": "ipython2",
   "version": "2.7.11"
  }
 },
 "nbformat": 4,
 "nbformat_minor": 0
}
